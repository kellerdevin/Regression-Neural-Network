{
  "cells": [
    {
      "cell_type": "code",
      "execution_count": null,
      "metadata": {
        "id": "0Gm7xvNPrw-R"
      },
      "outputs": [],
      "source": [
        "import pandas as pd\n",
        "\n",
        "from sklearn.preprocessing import StandardScaler #Z-score variables\n",
        "from sklearn.model_selection import train_test_split # simple TT split cv"
      ]
    },
    {
      "cell_type": "code",
      "execution_count": null,
      "metadata": {
        "id": "HvF9nCehmyk5"
      },
      "outputs": [],
      "source": [
        "df = pd.read_csv(\"https://raw.githubusercontent.com/kellerdevin/Regression-Neural-Network/main/song_data.csv\")"
      ]
    },
    {
      "cell_type": "code",
      "execution_count": null,
      "metadata": {
        "id": "KCgqRTsdrz4X"
      },
      "outputs": [],
      "source": [
        "df = df.head(500)"
      ]
    },
    {
      "cell_type": "code",
      "execution_count": null,
      "metadata": {
        "colab": {
          "base_uri": "https://localhost:8080/"
        },
        "id": "mUYKjek1s5hV",
        "outputId": "e9b94619-e17b-460e-dbe1-36892410f04e"
      },
      "outputs": [
        {
          "output_type": "execute_result",
          "data": {
            "text/plain": [
              "song_name            object\n",
              "song_popularity       int64\n",
              "song_duration_ms      int64\n",
              "acousticness        float64\n",
              "danceability        float64\n",
              "energy              float64\n",
              "instrumentalness    float64\n",
              "key                   int64\n",
              "liveness            float64\n",
              "loudness            float64\n",
              "audio_mode            int64\n",
              "speechiness         float64\n",
              "tempo               float64\n",
              "time_signature        int64\n",
              "audio_valence       float64\n",
              "dtype: object"
            ]
          },
          "metadata": {},
          "execution_count": 4
        }
      ],
      "source": [
        "df.dtypes"
      ]
    },
    {
      "cell_type": "code",
      "execution_count": null,
      "metadata": {
        "id": "raxvOGsutCb4"
      },
      "outputs": [],
      "source": [
        "df.drop('song_name', axis=1, inplace=True)"
      ]
    },
    {
      "cell_type": "code",
      "execution_count": null,
      "metadata": {
        "colab": {
          "base_uri": "https://localhost:8080/",
          "height": 488
        },
        "id": "JR8IWpecvJHf",
        "outputId": "8d007c0e-4a39-4f90-80a9-187eebb02c9f"
      },
      "outputs": [
        {
          "output_type": "execute_result",
          "data": {
            "text/plain": [
              "     song_popularity  song_duration_ms  acousticness  danceability  energy  \\\n",
              "0                 73            262333      0.005520         0.496   0.682   \n",
              "1                 66            216933      0.010300         0.542   0.853   \n",
              "2                 76            231733      0.008170         0.737   0.463   \n",
              "3                 74            216933      0.026400         0.451   0.970   \n",
              "4                 56            223826      0.000954         0.447   0.766   \n",
              "..               ...               ...           ...           ...     ...   \n",
              "495               67            195306      0.319000         0.623   0.910   \n",
              "496               64            467640      0.009750         0.436   0.657   \n",
              "497               59            365000      0.160000         0.287   0.562   \n",
              "498               72            248173      0.069400         0.531   0.818   \n",
              "499               64            199906      0.266000         0.480   0.626   \n",
              "\n",
              "     instrumentalness  key  liveness  loudness  audio_mode  speechiness  \\\n",
              "0            0.000029    8    0.0589    -4.095           1       0.0294   \n",
              "1            0.000000    3    0.1080    -6.407           0       0.0498   \n",
              "2            0.447000    0    0.2550    -7.828           1       0.0792   \n",
              "3            0.003550    0    0.1020    -4.938           1       0.1070   \n",
              "4            0.000000   10    0.1130    -5.065           1       0.0313   \n",
              "..                ...  ...       ...       ...         ...          ...   \n",
              "495          0.000448    9    0.0810    -8.448           1       0.0384   \n",
              "496          0.007480    5    0.0931    -8.868           1       0.0541   \n",
              "497          0.000000    0    0.1030    -7.549           1       0.0304   \n",
              "498          0.009600    2    0.2630    -5.358           1       0.0452   \n",
              "499          0.000057    5    0.0857    -8.406           1       0.0294   \n",
              "\n",
              "       tempo  time_signature  audio_valence  \n",
              "0    167.060               4          0.474  \n",
              "1    105.256               4          0.370  \n",
              "2    123.881               4          0.324  \n",
              "3    122.444               4          0.198  \n",
              "4    172.011               4          0.574  \n",
              "..       ...             ...            ...  \n",
              "495  145.624               4          0.745  \n",
              "496  118.693               4          0.210  \n",
              "497  147.622               4          0.126  \n",
              "498   90.767               4          0.471  \n",
              "499   75.630               4          0.542  \n",
              "\n",
              "[500 rows x 14 columns]"
            ],
            "text/html": [
              "\n",
              "  <div id=\"df-19f4955f-ac24-4313-9746-0d440ff49bf0\">\n",
              "    <div class=\"colab-df-container\">\n",
              "      <div>\n",
              "<style scoped>\n",
              "    .dataframe tbody tr th:only-of-type {\n",
              "        vertical-align: middle;\n",
              "    }\n",
              "\n",
              "    .dataframe tbody tr th {\n",
              "        vertical-align: top;\n",
              "    }\n",
              "\n",
              "    .dataframe thead th {\n",
              "        text-align: right;\n",
              "    }\n",
              "</style>\n",
              "<table border=\"1\" class=\"dataframe\">\n",
              "  <thead>\n",
              "    <tr style=\"text-align: right;\">\n",
              "      <th></th>\n",
              "      <th>song_popularity</th>\n",
              "      <th>song_duration_ms</th>\n",
              "      <th>acousticness</th>\n",
              "      <th>danceability</th>\n",
              "      <th>energy</th>\n",
              "      <th>instrumentalness</th>\n",
              "      <th>key</th>\n",
              "      <th>liveness</th>\n",
              "      <th>loudness</th>\n",
              "      <th>audio_mode</th>\n",
              "      <th>speechiness</th>\n",
              "      <th>tempo</th>\n",
              "      <th>time_signature</th>\n",
              "      <th>audio_valence</th>\n",
              "    </tr>\n",
              "  </thead>\n",
              "  <tbody>\n",
              "    <tr>\n",
              "      <th>0</th>\n",
              "      <td>73</td>\n",
              "      <td>262333</td>\n",
              "      <td>0.005520</td>\n",
              "      <td>0.496</td>\n",
              "      <td>0.682</td>\n",
              "      <td>0.000029</td>\n",
              "      <td>8</td>\n",
              "      <td>0.0589</td>\n",
              "      <td>-4.095</td>\n",
              "      <td>1</td>\n",
              "      <td>0.0294</td>\n",
              "      <td>167.060</td>\n",
              "      <td>4</td>\n",
              "      <td>0.474</td>\n",
              "    </tr>\n",
              "    <tr>\n",
              "      <th>1</th>\n",
              "      <td>66</td>\n",
              "      <td>216933</td>\n",
              "      <td>0.010300</td>\n",
              "      <td>0.542</td>\n",
              "      <td>0.853</td>\n",
              "      <td>0.000000</td>\n",
              "      <td>3</td>\n",
              "      <td>0.1080</td>\n",
              "      <td>-6.407</td>\n",
              "      <td>0</td>\n",
              "      <td>0.0498</td>\n",
              "      <td>105.256</td>\n",
              "      <td>4</td>\n",
              "      <td>0.370</td>\n",
              "    </tr>\n",
              "    <tr>\n",
              "      <th>2</th>\n",
              "      <td>76</td>\n",
              "      <td>231733</td>\n",
              "      <td>0.008170</td>\n",
              "      <td>0.737</td>\n",
              "      <td>0.463</td>\n",
              "      <td>0.447000</td>\n",
              "      <td>0</td>\n",
              "      <td>0.2550</td>\n",
              "      <td>-7.828</td>\n",
              "      <td>1</td>\n",
              "      <td>0.0792</td>\n",
              "      <td>123.881</td>\n",
              "      <td>4</td>\n",
              "      <td>0.324</td>\n",
              "    </tr>\n",
              "    <tr>\n",
              "      <th>3</th>\n",
              "      <td>74</td>\n",
              "      <td>216933</td>\n",
              "      <td>0.026400</td>\n",
              "      <td>0.451</td>\n",
              "      <td>0.970</td>\n",
              "      <td>0.003550</td>\n",
              "      <td>0</td>\n",
              "      <td>0.1020</td>\n",
              "      <td>-4.938</td>\n",
              "      <td>1</td>\n",
              "      <td>0.1070</td>\n",
              "      <td>122.444</td>\n",
              "      <td>4</td>\n",
              "      <td>0.198</td>\n",
              "    </tr>\n",
              "    <tr>\n",
              "      <th>4</th>\n",
              "      <td>56</td>\n",
              "      <td>223826</td>\n",
              "      <td>0.000954</td>\n",
              "      <td>0.447</td>\n",
              "      <td>0.766</td>\n",
              "      <td>0.000000</td>\n",
              "      <td>10</td>\n",
              "      <td>0.1130</td>\n",
              "      <td>-5.065</td>\n",
              "      <td>1</td>\n",
              "      <td>0.0313</td>\n",
              "      <td>172.011</td>\n",
              "      <td>4</td>\n",
              "      <td>0.574</td>\n",
              "    </tr>\n",
              "    <tr>\n",
              "      <th>...</th>\n",
              "      <td>...</td>\n",
              "      <td>...</td>\n",
              "      <td>...</td>\n",
              "      <td>...</td>\n",
              "      <td>...</td>\n",
              "      <td>...</td>\n",
              "      <td>...</td>\n",
              "      <td>...</td>\n",
              "      <td>...</td>\n",
              "      <td>...</td>\n",
              "      <td>...</td>\n",
              "      <td>...</td>\n",
              "      <td>...</td>\n",
              "      <td>...</td>\n",
              "    </tr>\n",
              "    <tr>\n",
              "      <th>495</th>\n",
              "      <td>67</td>\n",
              "      <td>195306</td>\n",
              "      <td>0.319000</td>\n",
              "      <td>0.623</td>\n",
              "      <td>0.910</td>\n",
              "      <td>0.000448</td>\n",
              "      <td>9</td>\n",
              "      <td>0.0810</td>\n",
              "      <td>-8.448</td>\n",
              "      <td>1</td>\n",
              "      <td>0.0384</td>\n",
              "      <td>145.624</td>\n",
              "      <td>4</td>\n",
              "      <td>0.745</td>\n",
              "    </tr>\n",
              "    <tr>\n",
              "      <th>496</th>\n",
              "      <td>64</td>\n",
              "      <td>467640</td>\n",
              "      <td>0.009750</td>\n",
              "      <td>0.436</td>\n",
              "      <td>0.657</td>\n",
              "      <td>0.007480</td>\n",
              "      <td>5</td>\n",
              "      <td>0.0931</td>\n",
              "      <td>-8.868</td>\n",
              "      <td>1</td>\n",
              "      <td>0.0541</td>\n",
              "      <td>118.693</td>\n",
              "      <td>4</td>\n",
              "      <td>0.210</td>\n",
              "    </tr>\n",
              "    <tr>\n",
              "      <th>497</th>\n",
              "      <td>59</td>\n",
              "      <td>365000</td>\n",
              "      <td>0.160000</td>\n",
              "      <td>0.287</td>\n",
              "      <td>0.562</td>\n",
              "      <td>0.000000</td>\n",
              "      <td>0</td>\n",
              "      <td>0.1030</td>\n",
              "      <td>-7.549</td>\n",
              "      <td>1</td>\n",
              "      <td>0.0304</td>\n",
              "      <td>147.622</td>\n",
              "      <td>4</td>\n",
              "      <td>0.126</td>\n",
              "    </tr>\n",
              "    <tr>\n",
              "      <th>498</th>\n",
              "      <td>72</td>\n",
              "      <td>248173</td>\n",
              "      <td>0.069400</td>\n",
              "      <td>0.531</td>\n",
              "      <td>0.818</td>\n",
              "      <td>0.009600</td>\n",
              "      <td>2</td>\n",
              "      <td>0.2630</td>\n",
              "      <td>-5.358</td>\n",
              "      <td>1</td>\n",
              "      <td>0.0452</td>\n",
              "      <td>90.767</td>\n",
              "      <td>4</td>\n",
              "      <td>0.471</td>\n",
              "    </tr>\n",
              "    <tr>\n",
              "      <th>499</th>\n",
              "      <td>64</td>\n",
              "      <td>199906</td>\n",
              "      <td>0.266000</td>\n",
              "      <td>0.480</td>\n",
              "      <td>0.626</td>\n",
              "      <td>0.000057</td>\n",
              "      <td>5</td>\n",
              "      <td>0.0857</td>\n",
              "      <td>-8.406</td>\n",
              "      <td>1</td>\n",
              "      <td>0.0294</td>\n",
              "      <td>75.630</td>\n",
              "      <td>4</td>\n",
              "      <td>0.542</td>\n",
              "    </tr>\n",
              "  </tbody>\n",
              "</table>\n",
              "<p>500 rows × 14 columns</p>\n",
              "</div>\n",
              "      <button class=\"colab-df-convert\" onclick=\"convertToInteractive('df-19f4955f-ac24-4313-9746-0d440ff49bf0')\"\n",
              "              title=\"Convert this dataframe to an interactive table.\"\n",
              "              style=\"display:none;\">\n",
              "        \n",
              "  <svg xmlns=\"http://www.w3.org/2000/svg\" height=\"24px\"viewBox=\"0 0 24 24\"\n",
              "       width=\"24px\">\n",
              "    <path d=\"M0 0h24v24H0V0z\" fill=\"none\"/>\n",
              "    <path d=\"M18.56 5.44l.94 2.06.94-2.06 2.06-.94-2.06-.94-.94-2.06-.94 2.06-2.06.94zm-11 1L8.5 8.5l.94-2.06 2.06-.94-2.06-.94L8.5 2.5l-.94 2.06-2.06.94zm10 10l.94 2.06.94-2.06 2.06-.94-2.06-.94-.94-2.06-.94 2.06-2.06.94z\"/><path d=\"M17.41 7.96l-1.37-1.37c-.4-.4-.92-.59-1.43-.59-.52 0-1.04.2-1.43.59L10.3 9.45l-7.72 7.72c-.78.78-.78 2.05 0 2.83L4 21.41c.39.39.9.59 1.41.59.51 0 1.02-.2 1.41-.59l7.78-7.78 2.81-2.81c.8-.78.8-2.07 0-2.86zM5.41 20L4 18.59l7.72-7.72 1.47 1.35L5.41 20z\"/>\n",
              "  </svg>\n",
              "      </button>\n",
              "      \n",
              "  <style>\n",
              "    .colab-df-container {\n",
              "      display:flex;\n",
              "      flex-wrap:wrap;\n",
              "      gap: 12px;\n",
              "    }\n",
              "\n",
              "    .colab-df-convert {\n",
              "      background-color: #E8F0FE;\n",
              "      border: none;\n",
              "      border-radius: 50%;\n",
              "      cursor: pointer;\n",
              "      display: none;\n",
              "      fill: #1967D2;\n",
              "      height: 32px;\n",
              "      padding: 0 0 0 0;\n",
              "      width: 32px;\n",
              "    }\n",
              "\n",
              "    .colab-df-convert:hover {\n",
              "      background-color: #E2EBFA;\n",
              "      box-shadow: 0px 1px 2px rgba(60, 64, 67, 0.3), 0px 1px 3px 1px rgba(60, 64, 67, 0.15);\n",
              "      fill: #174EA6;\n",
              "    }\n",
              "\n",
              "    [theme=dark] .colab-df-convert {\n",
              "      background-color: #3B4455;\n",
              "      fill: #D2E3FC;\n",
              "    }\n",
              "\n",
              "    [theme=dark] .colab-df-convert:hover {\n",
              "      background-color: #434B5C;\n",
              "      box-shadow: 0px 1px 3px 1px rgba(0, 0, 0, 0.15);\n",
              "      filter: drop-shadow(0px 1px 2px rgba(0, 0, 0, 0.3));\n",
              "      fill: #FFFFFF;\n",
              "    }\n",
              "  </style>\n",
              "\n",
              "      <script>\n",
              "        const buttonEl =\n",
              "          document.querySelector('#df-19f4955f-ac24-4313-9746-0d440ff49bf0 button.colab-df-convert');\n",
              "        buttonEl.style.display =\n",
              "          google.colab.kernel.accessAllowed ? 'block' : 'none';\n",
              "\n",
              "        async function convertToInteractive(key) {\n",
              "          const element = document.querySelector('#df-19f4955f-ac24-4313-9746-0d440ff49bf0');\n",
              "          const dataTable =\n",
              "            await google.colab.kernel.invokeFunction('convertToInteractive',\n",
              "                                                     [key], {});\n",
              "          if (!dataTable) return;\n",
              "\n",
              "          const docLinkHtml = 'Like what you see? Visit the ' +\n",
              "            '<a target=\"_blank\" href=https://colab.research.google.com/notebooks/data_table.ipynb>data table notebook</a>'\n",
              "            + ' to learn more about interactive tables.';\n",
              "          element.innerHTML = '';\n",
              "          dataTable['output_type'] = 'display_data';\n",
              "          await google.colab.output.renderOutput(dataTable, element);\n",
              "          const docLink = document.createElement('div');\n",
              "          docLink.innerHTML = docLinkHtml;\n",
              "          element.appendChild(docLink);\n",
              "        }\n",
              "      </script>\n",
              "    </div>\n",
              "  </div>\n",
              "  "
            ]
          },
          "metadata": {},
          "execution_count": 6
        }
      ],
      "source": [
        "df"
      ]
    },
    {
      "cell_type": "code",
      "execution_count": null,
      "metadata": {
        "id": "X7XwPg58tlUE"
      },
      "outputs": [],
      "source": [
        "features = [\"song_duration_ms\", \"acousticness\", \"danceability\", \"energy\", \"instrumentalness\", \"liveness\", \"loudness\", \"speechiness\",\"tempo\", \"time_signature\", \"audio_valence\"]\n",
        "target = \"song_popularity\""
      ]
    },
    {
      "cell_type": "code",
      "execution_count": null,
      "metadata": {
        "colab": {
          "base_uri": "https://localhost:8080/"
        },
        "id": "zu3IPHUctlM2",
        "outputId": "a5f56609-595f-4b25-dc94-19f1a3de9ee8"
      },
      "outputs": [
        {
          "output_type": "execute_result",
          "data": {
            "text/plain": [
              "0      73\n",
              "1      66\n",
              "2      76\n",
              "3      74\n",
              "4      56\n",
              "       ..\n",
              "495    67\n",
              "496    64\n",
              "497    59\n",
              "498    72\n",
              "499    64\n",
              "Name: song_popularity, Length: 500, dtype: int64"
            ]
          },
          "metadata": {},
          "execution_count": 8
        }
      ],
      "source": [
        "X = df[features]\n",
        "y = df[target]\n",
        "y"
      ]
    },
    {
      "cell_type": "code",
      "execution_count": null,
      "metadata": {
        "id": "giSyh3_cx97J"
      },
      "outputs": [],
      "source": [
        "train_data, test_data, train_targets, test_targets = train_test_split(df.iloc[:, :-1], df.iloc[:, -1], test_size=0.1, random_state=42)\n"
      ]
    },
    {
      "cell_type": "code",
      "source": [
        "test_targets"
      ],
      "metadata": {
        "colab": {
          "base_uri": "https://localhost:8080/"
        },
        "id": "gm9Ub2Vate3e",
        "outputId": "3e477dc1-2149-4a03-acf7-b3662f81cbb2"
      },
      "execution_count": null,
      "outputs": [
        {
          "output_type": "execute_result",
          "data": {
            "text/plain": [
              "361    0.868\n",
              "73     0.158\n",
              "374    0.931\n",
              "155    0.225\n",
              "104    0.621\n",
              "394    0.520\n",
              "377    0.491\n",
              "124    0.583\n",
              "68     0.854\n",
              "450    0.425\n",
              "9      0.374\n",
              "194    0.549\n",
              "406    0.311\n",
              "84     0.777\n",
              "371    0.410\n",
              "388    0.373\n",
              "495    0.745\n",
              "30     0.674\n",
              "316    0.654\n",
              "408    0.388\n",
              "490    0.632\n",
              "491    0.264\n",
              "280    0.937\n",
              "356    0.387\n",
              "76     0.777\n",
              "461    0.498\n",
              "497    0.126\n",
              "211    0.813\n",
              "101    0.794\n",
              "334    0.574\n",
              "475    0.778\n",
              "336    0.435\n",
              "440    0.777\n",
              "173    0.374\n",
              "2      0.324\n",
              "333    0.503\n",
              "409    0.750\n",
              "70     0.367\n",
              "209    0.905\n",
              "63     0.303\n",
              "384    0.784\n",
              "93     0.952\n",
              "485    0.677\n",
              "185    0.166\n",
              "33     0.453\n",
              "77     0.620\n",
              "0      0.474\n",
              "11     0.243\n",
              "415    0.776\n",
              "22     0.687\n",
              "Name: audio_valence, dtype: float64"
            ]
          },
          "metadata": {},
          "execution_count": 10
        }
      ]
    },
    {
      "cell_type": "markdown",
      "metadata": {
        "id": "8fKFVOv31Wta"
      },
      "source": [
        "Normalizing the data"
      ]
    },
    {
      "cell_type": "code",
      "execution_count": null,
      "metadata": {
        "id": "7ZkXT4SCykiz"
      },
      "outputs": [],
      "source": [
        "mean = train_data.mean(axis = 0)\n",
        "train_data -= mean\n",
        "std = train_data.std(axis=0)\n",
        "train_data /= std\n",
        "test_data -= mean\n",
        "test_data /= std"
      ]
    },
    {
      "cell_type": "markdown",
      "metadata": {
        "id": "aWmYpGQP2YI0"
      },
      "source": [
        "Model Definition"
      ]
    },
    {
      "cell_type": "code",
      "execution_count": null,
      "metadata": {
        "id": "nvPK_N2L1idl"
      },
      "outputs": [],
      "source": [
        "from keras import models\n",
        "from keras import layers\n",
        "def build_model():\n",
        "    model = models.Sequential()\n",
        "    model.add(layers.Dense(64, activation='relu',\n",
        "    input_shape=(train_data.shape[1],)))\n",
        "    model.add(layers.Dense(64, activation='relu'))\n",
        "    model.add(layers.Dense(1))\n",
        "    model.compile(optimizer='rmsprop', loss='mse', metrics=['mae'])\n",
        "    return model"
      ]
    },
    {
      "cell_type": "markdown",
      "metadata": {
        "id": "Bh0KZtkB2pzV"
      },
      "source": [
        "K-fold validation"
      ]
    },
    {
      "cell_type": "code",
      "execution_count": null,
      "metadata": {
        "id": "45rKS6CP2kgq",
        "colab": {
          "base_uri": "https://localhost:8080/"
        },
        "outputId": "bb21d31d-158e-42f3-8e93-4e57638a204c"
      },
      "outputs": [
        {
          "output_type": "stream",
          "name": "stdout",
          "text": [
            "processing fold # 0\n",
            "processing fold # 1\n",
            "processing fold # 2\n",
            "processing fold # 3\n"
          ]
        }
      ],
      "source": [
        "import numpy as np\n",
        "k=4\n",
        "num_val_samples = len(train_data) // k\n",
        "num_epochs = 100\n",
        "all_scores = []\n",
        "for i in range(k):\n",
        "    print('processing fold #', i)\n",
        "    val_data = train_data[i * num_val_samples: (i + 1) * num_val_samples]\n",
        "    val_targets = train_targets[i * num_val_samples: (i + 1) * num_val_samples]\n",
        "    partial_train_data = np.concatenate(\n",
        "        [train_data[:i * num_val_samples],\n",
        "        train_data[(i + 1) * num_val_samples:]],\n",
        "        axis=0)\n",
        "    partial_train_targets = np.concatenate(\n",
        "        [train_targets[:i * num_val_samples],\n",
        "        train_targets[(i + 1) * num_val_samples:]],\n",
        "        axis=0)\n",
        "    model = build_model()\n",
        "    model.fit(partial_train_data, partial_train_targets,\n",
        "    epochs=num_epochs, batch_size=1, verbose=0)\n",
        "    val_mse, val_mae = model.evaluate(val_data, val_targets, verbose=0)\n",
        "    all_scores.append(val_mae)"
      ]
    },
    {
      "cell_type": "code",
      "source": [],
      "metadata": {
        "id": "kNnZ_GCo9GCa"
      },
      "execution_count": null,
      "outputs": []
    },
    {
      "cell_type": "code",
      "source": [
        "num_epochs = 500\n",
        "all_mae_histories = []\n",
        "for i in range(k):\n",
        "    print('processing fold #', i)\n",
        "    val_data = train_data[i * num_val_samples: (i + 1) * num_val_samples]\n",
        "    val_targets = train_targets[i * num_val_samples: (i + 1) * num_val_samples]\n",
        "    partial_train_data = np.concatenate(\n",
        "        [train_data[:i * num_val_samples],\n",
        "        train_data[(i + 1) * num_val_samples:]],\n",
        "        axis=0)\n",
        "    partial_train_targets = np.concatenate(\n",
        "        [train_targets[:i * num_val_samples],\n",
        "        train_targets[(i + 1) * num_val_samples:]],\n",
        "        axis=0)\n",
        "    model = build_model()\n",
        "    history = model.fit(partial_train_data, partial_train_targets,\n",
        "        validation_data=(val_data, val_targets),\n",
        "        epochs=num_epochs, batch_size=1, verbose=0)\n",
        "    mae_history = history.history['val_mae']\n",
        "    all_mae_histories.append(mae_history)"
      ],
      "metadata": {
        "colab": {
          "base_uri": "https://localhost:8080/"
        },
        "id": "Vu7pTQD_xmT5",
        "outputId": "ca3c2a64-5b49-43c6-cb73-725a2ef5aac7"
      },
      "execution_count": null,
      "outputs": [
        {
          "output_type": "stream",
          "name": "stdout",
          "text": [
            "processing fold # 0\n",
            "processing fold # 1\n",
            "processing fold # 2\n",
            "processing fold # 3\n"
          ]
        }
      ]
    },
    {
      "cell_type": "code",
      "source": [
        "all_scores"
      ],
      "metadata": {
        "colab": {
          "base_uri": "https://localhost:8080/"
        },
        "id": "sLOjdG0Nw_sF",
        "outputId": "6fc66e67-c337-4a43-95bd-4f1ad3f9e173"
      },
      "execution_count": null,
      "outputs": [
        {
          "output_type": "execute_result",
          "data": {
            "text/plain": [
              "[0.16177470982074738,\n",
              " 0.19229240715503693,\n",
              " 0.17716529965400696,\n",
              " 0.19057908654212952]"
            ]
          },
          "metadata": {},
          "execution_count": 20
        }
      ]
    },
    {
      "cell_type": "code",
      "source": [
        "np.mean(all_scores)"
      ],
      "metadata": {
        "colab": {
          "base_uri": "https://localhost:8080/"
        },
        "id": "wFMfjefQsH_7",
        "outputId": "4895f476-54db-45d6-a4d1-369bc8757394"
      },
      "execution_count": null,
      "outputs": [
        {
          "output_type": "execute_result",
          "data": {
            "text/plain": [
              "0.1804528757929802"
            ]
          },
          "metadata": {},
          "execution_count": 21
        }
      ]
    },
    {
      "cell_type": "markdown",
      "source": [
        "Off by 18% on average"
      ],
      "metadata": {
        "id": "55jdfMBRxOM9"
      }
    },
    {
      "cell_type": "code",
      "source": [
        "average_mae_history = [\n",
        "np.mean([x[i] for x in all_mae_histories]) for i in range(num_epochs)]"
      ],
      "metadata": {
        "id": "FjMoMMwSxa9X"
      },
      "execution_count": null,
      "outputs": []
    },
    {
      "cell_type": "code",
      "source": [
        "import matplotlib.pyplot as plt\n",
        "plt.plot(range(1, len(average_mae_history) + 1), average_mae_history)\n",
        "plt.xlabel('Epochs')\n",
        "plt.ylabel('Validation MAE')\n",
        "plt.show()"
      ],
      "metadata": {
        "colab": {
          "base_uri": "https://localhost:8080/",
          "height": 279
        },
        "id": "b_-z8LmAxNwi",
        "outputId": "21281ef3-a8d9-4c42-ac1f-d7e90d9d10d1"
      },
      "execution_count": null,
      "outputs": [
        {
          "output_type": "display_data",
          "data": {
            "text/plain": [
              "<Figure size 432x288 with 1 Axes>"
            ],
            "image/png": "[encoded data removed]"
          },
          "metadata": {
            "needs_background": "light"
          }
        }
      ]
    },
    {
      "cell_type": "code",
      "source": [
        "average_mae_history = [\n",
        "    np.mean([x[i] for x in all_mae_histories]) for i in range(num_epochs)]"
      ],
      "metadata": {
        "id": "9aWYSSCCtH_F"
      },
      "execution_count": null,
      "outputs": []
    },
    {
      "cell_type": "code",
      "source": [
        "def smooth_curve(points, factor=0.9):\n",
        "  smoothed_points = []\n",
        "  for point in points:\n",
        "    if smoothed_points:\n",
        "      previous = smoothed_points[-1]\n",
        "      smoothed_points.append(previous * factor + point * (1 - factor))\n",
        "    else:\n",
        "      smoothed_points.append(point)\n",
        "  return smoothed_points\n",
        "\n",
        "smooth_mae_history = smooth_curve(average_mae_history[10:])\n",
        "plt.plot(range(1, len(smooth_mae_history) + 1), smooth_mae_history)\n",
        "plt.xlabel('Epochs')\n",
        "plt.ylabel('Validation MAE')\n",
        "plt.show()"
      ],
      "metadata": {
        "colab": {
          "base_uri": "https://localhost:8080/",
          "height": 279
        },
        "id": "ZoIJ_AjT9UmR",
        "outputId": "e5146b9c-dacf-414a-c80a-77b6ec9d7d15"
      },
      "execution_count": null,
      "outputs": [
        {
          "output_type": "display_data",
          "data": {
            "text/plain": [
              "<Figure size 432x288 with 1 Axes>"
            ],
            "image/png": "[encoded data removed]"
          },
          "metadata": {
            "needs_background": "light"
          }
        }
      ]
    },
    {
      "cell_type": "code",
      "source": [
        "model = build_model()\n",
        "model.fit(train_data, train_targets,\n",
        "  epochs=500, batch_size=16, verbose=0)\n",
        "test_mse_score, test_mae_score = model.evaluate(test_data, test_targets)"
      ],
      "metadata": {
        "colab": {
          "base_uri": "https://localhost:8080/"
        },
        "id": "XZIgW4UJ9-DC",
        "outputId": "0cd4e184-b1f8-455c-ff86-9f36f0c30f13"
      },
      "execution_count": null,
      "outputs": [
        {
          "output_type": "stream",
          "name": "stdout",
          "text": [
            "2/2 [==============================] - 0s 15ms/step - loss: 0.0491 - mae: 0.1670\n"
          ]
        }
      ]
    },
    {
      "cell_type": "code",
      "source": [
        "test_mae_score"
      ],
      "metadata": {
        "colab": {
          "base_uri": "https://localhost:8080/"
        },
        "id": "AKiqkvdU-n8W",
        "outputId": "8ad43510-90e9-498d-a7e2-5bbf446ee066"
      },
      "execution_count": null,
      "outputs": [
        {
          "output_type": "execute_result",
          "data": {
            "text/plain": [
              "0.16699858009815216"
            ]
          },
          "metadata": {},
          "execution_count": 30
        }
      ]
    },
    {
      "cell_type": "markdown",
      "source": [
        "17%"
      ],
      "metadata": {
        "id": "DYPjLPOzb9HI"
      }
    }
  ],
  "metadata": {
    "colab": {
      "provenance": []
    },
    "kernelspec": {
      "display_name": "Python 3",
      "name": "python3"
    },
    "language_info": {
      "name": "python"
    }
  },
  "nbformat": 4,
  "nbformat_minor": 0
}